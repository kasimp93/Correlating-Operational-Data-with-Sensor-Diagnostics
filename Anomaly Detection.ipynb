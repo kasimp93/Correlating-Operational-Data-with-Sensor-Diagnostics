{
 "cells": [
  {
   "cell_type": "code",
   "execution_count": 1,
   "metadata": {
    "collapsed": true
   },
   "outputs": [],
   "source": [
    "import pandas as pd\n",
    "import warnings\n",
    "import statsmodels.api as sm\n",
    "import matplotlib.pyplot as plt\n",
    "import glob\n",
    "warnings.filterwarnings(\"ignore\")\n",
    "import glob\n",
    "\n",
    "path =r'C:\\Users\\kasim\\Desktop\\506 Project\\XML to CSV Files' # use your path\n",
    "allFiles = glob.glob(path + \"/*.csv\")\n",
    "df_1 = pd.DataFrame()\n",
    "list_ = []\n",
    "for file_ in allFiles:\n",
    "    df = pd.read_csv(file_,index_col=None, header=0)\n",
    "    list_.append(df)\n",
    "df_1 = pd.concat(list_)\n",
    "df_1 = df_1.drop(['devicename', 'exit_timestamp' ], axis = 1) #dropping the columns not needed\n",
    "df_1 = df.drop(df.columns[[0]], axis=1)"
   ]
  },
  {
   "cell_type": "code",
   "execution_count": 2,
   "metadata": {
    "collapsed": true
   },
   "outputs": [],
   "source": [
    "#converting the timestamps to python datetime format\n",
    "df_1['entry_timestamp'] = df_1['entry_timestamp'].astype('str') \n",
    "df_1['exit_timestamp'] = df_1['exit_timestamp'].astype('str') "
   ]
  },
  {
   "cell_type": "code",
   "execution_count": 4,
   "metadata": {
    "collapsed": true
   },
   "outputs": [],
   "source": [
    "df_1['entry_timestamp'].replace('T', ' ',regex=True,inplace=True)\n",
    "df_1['exit_timestamp'].replace('T', ' ',regex=True,inplace=True)"
   ]
  },
  {
   "cell_type": "code",
   "execution_count": 5,
   "metadata": {
    "collapsed": false
   },
   "outputs": [
    {
     "data": {
      "text/html": [
       "<div>\n",
       "<table border=\"1\" class=\"dataframe\">\n",
       "  <thead>\n",
       "    <tr style=\"text-align: right;\">\n",
       "      <th></th>\n",
       "      <th>entry_timestamp</th>\n",
       "      <th>exit_timestamp</th>\n",
       "      <th>ole</th>\n",
       "      <th>owi</th>\n",
       "      <th>ohe</th>\n",
       "      <th>speed</th>\n",
       "      <th>incr</th>\n",
       "      <th>otl</th>\n",
       "      <th>oga</th>\n",
       "    </tr>\n",
       "  </thead>\n",
       "  <tbody>\n",
       "    <tr>\n",
       "      <th>0</th>\n",
       "      <td>2017-08-14 23:58:03.025</td>\n",
       "      <td>2017-08-14 23:58:05.055</td>\n",
       "      <td>10.4</td>\n",
       "      <td>8.8</td>\n",
       "      <td>7.6</td>\n",
       "      <td>545.67</td>\n",
       "      <td>6083.0</td>\n",
       "      <td>11.02</td>\n",
       "      <td>60.1</td>\n",
       "    </tr>\n",
       "    <tr>\n",
       "      <th>1</th>\n",
       "      <td>2017-08-14 23:58:04.623</td>\n",
       "      <td>2017-08-14 23:58:06.710</td>\n",
       "      <td>17.0</td>\n",
       "      <td>14.4</td>\n",
       "      <td>10.2</td>\n",
       "      <td>545.67</td>\n",
       "      <td>8338.0</td>\n",
       "      <td>17.32</td>\n",
       "      <td>40.7</td>\n",
       "    </tr>\n",
       "    <tr>\n",
       "      <th>2</th>\n",
       "      <td>2017-08-14 23:58:04.963</td>\n",
       "      <td>2017-08-14 23:58:07.016</td>\n",
       "      <td>16.6</td>\n",
       "      <td>11.0</td>\n",
       "      <td>8.6</td>\n",
       "      <td>545.67</td>\n",
       "      <td>8753.0</td>\n",
       "      <td>13.39</td>\n",
       "      <td>4.9</td>\n",
       "    </tr>\n",
       "    <tr>\n",
       "      <th>3</th>\n",
       "      <td>2017-08-14 23:58:05.596</td>\n",
       "      <td>2017-08-14 23:58:07.636</td>\n",
       "      <td>11.8</td>\n",
       "      <td>9.0</td>\n",
       "      <td>12.2</td>\n",
       "      <td>545.67</td>\n",
       "      <td>9608.0</td>\n",
       "      <td>12.99</td>\n",
       "      <td>13.8</td>\n",
       "    </tr>\n",
       "    <tr>\n",
       "      <th>4</th>\n",
       "      <td>2017-08-14 23:58:06.942</td>\n",
       "      <td>2017-08-14 23:58:09.026</td>\n",
       "      <td>16.6</td>\n",
       "      <td>12.6</td>\n",
       "      <td>12.6</td>\n",
       "      <td>545.67</td>\n",
       "      <td>11503.0</td>\n",
       "      <td>17.72</td>\n",
       "      <td>33.4</td>\n",
       "    </tr>\n",
       "  </tbody>\n",
       "</table>\n",
       "</div>"
      ],
      "text/plain": [
       "           entry_timestamp           exit_timestamp   ole   owi   ohe   speed  \\\n",
       "0  2017-08-14 23:58:03.025  2017-08-14 23:58:05.055  10.4   8.8   7.6  545.67   \n",
       "1  2017-08-14 23:58:04.623  2017-08-14 23:58:06.710  17.0  14.4  10.2  545.67   \n",
       "2  2017-08-14 23:58:04.963  2017-08-14 23:58:07.016  16.6  11.0   8.6  545.67   \n",
       "3  2017-08-14 23:58:05.596  2017-08-14 23:58:07.636  11.8   9.0  12.2  545.67   \n",
       "4  2017-08-14 23:58:06.942  2017-08-14 23:58:09.026  16.6  12.6  12.6  545.67   \n",
       "\n",
       "      incr    otl   oga  \n",
       "0   6083.0  11.02  60.1  \n",
       "1   8338.0  17.32  40.7  \n",
       "2   8753.0  13.39   4.9  \n",
       "3   9608.0  12.99  13.8  \n",
       "4  11503.0  17.72  33.4  "
      ]
     },
     "execution_count": 5,
     "metadata": {},
     "output_type": "execute_result"
    }
   ],
   "source": [
    "#df_1['entry_timestamp'] = pd.to_datetime(df_1.entry_timestamp)\n",
    "df_1['entry_timestamp'] = df_1['entry_timestamp'].apply(lambda x: x.split('T')[0])\n",
    "df_1['exit_timestamp'] = df_1['exit_timestamp'].apply(lambda x: x.split('T')[0])\n",
    "#df_1['exit_timestamp']  = pd.to_numeric(df_1['exit_timestamp'] )\n",
    "# df_1['entry_timestamp'] = df_1['entry_timestamp'].astype(float) \n",
    "# df_1['exit_timestamp'] = df_1['exit_timestamp'].astype(float)\n",
    "#df['col'] = pd.to_numeric(df['col']) \n",
    "df_1.head()"
   ]
  },
  {
   "cell_type": "code",
   "execution_count": 6,
   "metadata": {
    "collapsed": false
   },
   "outputs": [
    {
     "data": {
      "text/html": [
       "<div>\n",
       "<table border=\"1\" class=\"dataframe\">\n",
       "  <thead>\n",
       "    <tr style=\"text-align: right;\">\n",
       "      <th></th>\n",
       "      <th>entry_timestamp</th>\n",
       "      <th>exit_timestamp</th>\n",
       "      <th>ole</th>\n",
       "      <th>owi</th>\n",
       "      <th>ohe</th>\n",
       "      <th>speed</th>\n",
       "      <th>incr</th>\n",
       "      <th>otl</th>\n",
       "      <th>oga</th>\n",
       "    </tr>\n",
       "  </thead>\n",
       "  <tbody>\n",
       "    <tr>\n",
       "      <th>0</th>\n",
       "      <td>2017-08-14 23:58:03.025</td>\n",
       "      <td>2017-08-14 23:58:05.055</td>\n",
       "      <td>10.4</td>\n",
       "      <td>8.8</td>\n",
       "      <td>7.6</td>\n",
       "      <td>545.67</td>\n",
       "      <td>6083.0</td>\n",
       "      <td>11.02</td>\n",
       "      <td>60.1</td>\n",
       "    </tr>\n",
       "  </tbody>\n",
       "</table>\n",
       "</div>"
      ],
      "text/plain": [
       "           entry_timestamp           exit_timestamp   ole  owi  ohe   speed  \\\n",
       "0  2017-08-14 23:58:03.025  2017-08-14 23:58:05.055  10.4  8.8  7.6  545.67   \n",
       "\n",
       "     incr    otl   oga  \n",
       "0  6083.0  11.02  60.1  "
      ]
     },
     "execution_count": 6,
     "metadata": {},
     "output_type": "execute_result"
    }
   ],
   "source": [
    "#dropping the nan values\n",
    "df_1 = df_1.dropna(how = 'any')\n",
    "df_1.head(1)"
   ]
  },
  {
   "cell_type": "code",
   "execution_count": 8,
   "metadata": {
    "collapsed": false,
    "scrolled": true
   },
   "outputs": [
    {
     "data": {
      "text/html": [
       "<div>\n",
       "<table border=\"1\" class=\"dataframe\">\n",
       "  <thead>\n",
       "    <tr style=\"text-align: right;\">\n",
       "      <th></th>\n",
       "      <th>entry_timestamp</th>\n",
       "      <th>exit_timestamp</th>\n",
       "      <th>ole</th>\n",
       "      <th>owi</th>\n",
       "      <th>ohe</th>\n",
       "      <th>speed</th>\n",
       "      <th>incr</th>\n",
       "      <th>otl</th>\n",
       "      <th>oga</th>\n",
       "      <th>Volume</th>\n",
       "    </tr>\n",
       "  </thead>\n",
       "  <tbody>\n",
       "    <tr>\n",
       "      <th>0</th>\n",
       "      <td>2017-08-14 23:58:03.025</td>\n",
       "      <td>2017-08-14 23:58:05.055</td>\n",
       "      <td>10.4</td>\n",
       "      <td>8.8</td>\n",
       "      <td>7.6</td>\n",
       "      <td>545.67</td>\n",
       "      <td>6083.0</td>\n",
       "      <td>11.02</td>\n",
       "      <td>60.1</td>\n",
       "      <td>695.552</td>\n",
       "    </tr>\n",
       "  </tbody>\n",
       "</table>\n",
       "</div>"
      ],
      "text/plain": [
       "           entry_timestamp           exit_timestamp   ole  owi  ohe   speed  \\\n",
       "0  2017-08-14 23:58:03.025  2017-08-14 23:58:05.055  10.4  8.8  7.6  545.67   \n",
       "\n",
       "     incr    otl   oga   Volume  \n",
       "0  6083.0  11.02  60.1  695.552  "
      ]
     },
     "execution_count": 8,
     "metadata": {},
     "output_type": "execute_result"
    }
   ],
   "source": [
    "#calculating columns\n",
    "df_1['Volume'] = df_1.ole * df_1.owi * df_1.ohe\n",
    "df_1.head(1)"
   ]
  },
  {
   "cell_type": "code",
   "execution_count": 24,
   "metadata": {
    "collapsed": false
   },
   "outputs": [
    {
     "data": {
      "image/png": "[encoded data removed]",
      "text/plain": [
       "<matplotlib.figure.Figure at 0x1c1852a7908>"
      ]
     },
     "metadata": {},
     "output_type": "display_data"
    }
   ],
   "source": [
    "#Plot between volume and speed\n",
    "\n",
    "plt.plot(df_1['Volume'],df_1['speed'],'o',markersize=3)\n",
    "plt.axis('square')\n",
    "plt.xlim([-10000,100000])\n",
    "_ = plt.ylim([-10000,100000])\n",
    "plt.show()"
   ]
  },
  {
   "cell_type": "code",
   "execution_count": 28,
   "metadata": {
    "collapsed": false
   },
   "outputs": [
    {
     "data": {
      "image/png": "[encoded data removed]",
      "text/plain": [
       "<matplotlib.figure.Figure at 0x1c185413828>"
      ]
     },
     "metadata": {},
     "output_type": "display_data"
    }
   ],
   "source": [
    "#Plot between otl and speed\n",
    "plt.plot(df_1['otl'],df_1['speed'],'o',markersize=3)\n",
    "plt.axis('square')\n",
    "plt.xlim([-10,600])\n",
    "_ = plt.ylim([-10,600])\n",
    "plt.show()"
   ]
  },
  {
   "cell_type": "code",
   "execution_count": 33,
   "metadata": {
    "collapsed": false
   },
   "outputs": [
    {
     "data": {
      "image/png": "[encoded data removed]",
      "text/plain": [
       "<matplotlib.figure.Figure at 0x1c1852f0d30>"
      ]
     },
     "metadata": {},
     "output_type": "display_data"
    }
   ],
   "source": [
    "#Plot between volume and otl\n",
    "\n",
    "plt.plot(df_1['Volume'],df_1['otl'],'o',markersize=3)\n",
    "plt.axis('square')\n",
    "plt.xlim([-10,600])\n",
    "_ = plt.ylim([-10,600])\n",
    "plt.show()"
   ]
  },
  {
   "cell_type": "code",
   "execution_count": null,
   "metadata": {
    "collapsed": true
   },
   "outputs": [],
   "source": []
  }
 ],
 "metadata": {
  "anaconda-cloud": {},
  "kernelspec": {
   "display_name": "Python [default]",
   "language": "python",
   "name": "python3"
  },
  "language_info": {
   "codemirror_mode": {
    "name": "ipython",
    "version": 3
   },
   "file_extension": ".py",
   "mimetype": "text/x-python",
   "name": "python",
   "nbconvert_exporter": "python",
   "pygments_lexer": "ipython3",
   "version": "3.5.2"
  }
 },
 "nbformat": 4,
 "nbformat_minor": 1
}
